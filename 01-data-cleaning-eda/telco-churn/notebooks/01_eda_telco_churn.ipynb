{
 "cells": [
  {
   "cell_type": "code",
   "execution_count": 2,
   "id": "422fb5e5",
   "metadata": {},
   "outputs": [
    {
     "data": {
      "text/plain": [
       "((7043, 21),\n",
       "    customerID  gender  SeniorCitizen Partner Dependents  tenure PhoneService  \\\n",
       " 0  7590-VHVEG  Female              0     Yes         No       1           No   \n",
       " 1  5575-GNVDE    Male              0      No         No      34          Yes   \n",
       " 2  3668-QPYBK    Male              0      No         No       2          Yes   \n",
       " 3  7795-CFOCW    Male              0      No         No      45           No   \n",
       " 4  9237-HQITU  Female              0      No         No       2          Yes   \n",
       " \n",
       "       MultipleLines InternetService OnlineSecurity  ... DeviceProtection  \\\n",
       " 0  No phone service             DSL             No  ...               No   \n",
       " 1                No             DSL            Yes  ...              Yes   \n",
       " 2                No             DSL            Yes  ...               No   \n",
       " 3  No phone service             DSL            Yes  ...              Yes   \n",
       " 4                No     Fiber optic             No  ...               No   \n",
       " \n",
       "   TechSupport StreamingTV StreamingMovies        Contract PaperlessBilling  \\\n",
       " 0          No          No              No  Month-to-month              Yes   \n",
       " 1          No          No              No        One year               No   \n",
       " 2          No          No              No  Month-to-month              Yes   \n",
       " 3         Yes          No              No        One year               No   \n",
       " 4          No          No              No  Month-to-month              Yes   \n",
       " \n",
       "                PaymentMethod MonthlyCharges  TotalCharges Churn  \n",
       " 0           Electronic check          29.85         29.85    No  \n",
       " 1               Mailed check          56.95        1889.5    No  \n",
       " 2               Mailed check          53.85        108.15   Yes  \n",
       " 3  Bank transfer (automatic)          42.30       1840.75    No  \n",
       " 4           Electronic check          70.70        151.65   Yes  \n",
       " \n",
       " [5 rows x 21 columns])"
      ]
     },
     "execution_count": 2,
     "metadata": {},
     "output_type": "execute_result"
    }
   ],
   "source": [
    "import pandas as pd\n",
    "\n",
    "df = pd.read_csv(\"01-data-cleaning-eda/telco-churn/data/raw/telco_churn.csv\")\n",
    "df.shape, df.head()\n"
   ]
  },
  {
   "cell_type": "code",
   "execution_count": 1,
   "id": "061d3c62",
   "metadata": {},
   "outputs": [
    {
     "data": {
      "text/plain": [
       "((7043, 21),\n",
       "    customerID  gender  SeniorCitizen Partner Dependents  tenure PhoneService  \\\n",
       " 0  7590-VHVEG  Female              0     Yes         No       1           No   \n",
       " 1  5575-GNVDE    Male              0      No         No      34          Yes   \n",
       " 2  3668-QPYBK    Male              0      No         No       2          Yes   \n",
       " 3  7795-CFOCW    Male              0      No         No      45           No   \n",
       " 4  9237-HQITU  Female              0      No         No       2          Yes   \n",
       " \n",
       "       MultipleLines InternetService OnlineSecurity  ... DeviceProtection  \\\n",
       " 0  No phone service             DSL             No  ...               No   \n",
       " 1                No             DSL            Yes  ...              Yes   \n",
       " 2                No             DSL            Yes  ...               No   \n",
       " 3  No phone service             DSL            Yes  ...              Yes   \n",
       " 4                No     Fiber optic             No  ...               No   \n",
       " \n",
       "   TechSupport StreamingTV StreamingMovies        Contract PaperlessBilling  \\\n",
       " 0          No          No              No  Month-to-month              Yes   \n",
       " 1          No          No              No        One year               No   \n",
       " 2          No          No              No  Month-to-month              Yes   \n",
       " 3         Yes          No              No        One year               No   \n",
       " 4          No          No              No  Month-to-month              Yes   \n",
       " \n",
       "                PaymentMethod MonthlyCharges  TotalCharges Churn  \n",
       " 0           Electronic check          29.85         29.85    No  \n",
       " 1               Mailed check          56.95        1889.5    No  \n",
       " 2               Mailed check          53.85        108.15   Yes  \n",
       " 3  Bank transfer (automatic)          42.30       1840.75    No  \n",
       " 4           Electronic check          70.70        151.65   Yes  \n",
       " \n",
       " [5 rows x 21 columns])"
      ]
     },
     "execution_count": 1,
     "metadata": {},
     "output_type": "execute_result"
    }
   ],
   "source": [
    "from pathlib import Path\n",
    "import pandas as pd\n",
    "\n",
    "DATA = Path(\"../data/raw/telco_churn.csv\")\n",
    "df = pd.read_csv(DATA)\n",
    "\n",
    "df.shape, df.head()\n",
    "\n"
   ]
  },
  {
   "cell_type": "code",
   "execution_count": 2,
   "id": "bf815aee",
   "metadata": {},
   "outputs": [
    {
     "name": "stdout",
     "output_type": "stream",
     "text": [
      "<class 'pandas.core.frame.DataFrame'>\n",
      "RangeIndex: 7043 entries, 0 to 7042\n",
      "Data columns (total 21 columns):\n",
      " #   Column            Non-Null Count  Dtype  \n",
      "---  ------            --------------  -----  \n",
      " 0   customerID        7043 non-null   object \n",
      " 1   gender            7043 non-null   object \n",
      " 2   SeniorCitizen     7043 non-null   int64  \n",
      " 3   Partner           7043 non-null   object \n",
      " 4   Dependents        7043 non-null   object \n",
      " 5   tenure            7043 non-null   int64  \n",
      " 6   PhoneService      7043 non-null   object \n",
      " 7   MultipleLines     7043 non-null   object \n",
      " 8   InternetService   7043 non-null   object \n",
      " 9   OnlineSecurity    7043 non-null   object \n",
      " 10  OnlineBackup      7043 non-null   object \n",
      " 11  DeviceProtection  7043 non-null   object \n",
      " 12  TechSupport       7043 non-null   object \n",
      " 13  StreamingTV       7043 non-null   object \n",
      " 14  StreamingMovies   7043 non-null   object \n",
      " 15  Contract          7043 non-null   object \n",
      " 16  PaperlessBilling  7043 non-null   object \n",
      " 17  PaymentMethod     7043 non-null   object \n",
      " 18  MonthlyCharges    7043 non-null   float64\n",
      " 19  TotalCharges      7043 non-null   object \n",
      " 20  Churn             7043 non-null   object \n",
      "dtypes: float64(1), int64(2), object(18)\n",
      "memory usage: 1.1+ MB\n"
     ]
    }
   ],
   "source": [
    "df.info()\n"
   ]
  },
  {
   "cell_type": "code",
   "execution_count": 3,
   "id": "f2d3da6e",
   "metadata": {},
   "outputs": [
    {
     "data": {
      "text/plain": [
       "customerID         0\n",
       "gender             0\n",
       "SeniorCitizen      0\n",
       "Partner            0\n",
       "Dependents         0\n",
       "tenure             0\n",
       "PhoneService       0\n",
       "MultipleLines      0\n",
       "InternetService    0\n",
       "OnlineSecurity     0\n",
       "dtype: int64"
      ]
     },
     "execution_count": 3,
     "metadata": {},
     "output_type": "execute_result"
    }
   ],
   "source": [
    "df.isna().sum().sort_values(ascending=False).head(10)\n"
   ]
  },
  {
   "cell_type": "code",
   "execution_count": 4,
   "id": "36175047",
   "metadata": {},
   "outputs": [
    {
     "data": {
      "text/plain": [
       "Churn\n",
       "No     73.46\n",
       "Yes    26.54\n",
       "Name: proportion, dtype: float64"
      ]
     },
     "execution_count": 4,
     "metadata": {},
     "output_type": "execute_result"
    }
   ],
   "source": [
    "df['Churn'].value_counts(normalize=True).mul(100).round(2)\n"
   ]
  },
  {
   "cell_type": "code",
   "execution_count": 5,
   "id": "4a3c2ed2",
   "metadata": {},
   "outputs": [
    {
     "data": {
      "text/html": [
       "<div>\n",
       "<style scoped>\n",
       "    .dataframe tbody tr th:only-of-type {\n",
       "        vertical-align: middle;\n",
       "    }\n",
       "\n",
       "    .dataframe tbody tr th {\n",
       "        vertical-align: top;\n",
       "    }\n",
       "\n",
       "    .dataframe thead th {\n",
       "        text-align: right;\n",
       "    }\n",
       "</style>\n",
       "<table border=\"1\" class=\"dataframe\">\n",
       "  <thead>\n",
       "    <tr style=\"text-align: right;\">\n",
       "      <th></th>\n",
       "      <th>Contract</th>\n",
       "      <th>Churn</th>\n",
       "      <th>rate</th>\n",
       "    </tr>\n",
       "  </thead>\n",
       "  <tbody>\n",
       "    <tr>\n",
       "      <th>1</th>\n",
       "      <td>Month-to-month</td>\n",
       "      <td>Yes</td>\n",
       "      <td>42.709677</td>\n",
       "    </tr>\n",
       "    <tr>\n",
       "      <th>3</th>\n",
       "      <td>One year</td>\n",
       "      <td>Yes</td>\n",
       "      <td>11.269518</td>\n",
       "    </tr>\n",
       "    <tr>\n",
       "      <th>5</th>\n",
       "      <td>Two year</td>\n",
       "      <td>Yes</td>\n",
       "      <td>2.831858</td>\n",
       "    </tr>\n",
       "  </tbody>\n",
       "</table>\n",
       "</div>"
      ],
      "text/plain": [
       "         Contract Churn       rate\n",
       "1  Month-to-month   Yes  42.709677\n",
       "3        One year   Yes  11.269518\n",
       "5        Two year   Yes   2.831858"
      ]
     },
     "execution_count": 5,
     "metadata": {},
     "output_type": "execute_result"
    }
   ],
   "source": [
    "by_contract = (df.groupby('Contract')['Churn']\n",
    "                 .value_counts(normalize=True)\n",
    "                 .rename('rate').mul(100).reset_index())\n",
    "\n",
    "by_contract[by_contract['Churn'] == 'Yes']\n"
   ]
  },
  {
   "cell_type": "code",
   "execution_count": 6,
   "id": "3f908ba1",
   "metadata": {},
   "outputs": [
    {
     "data": {
      "image/png": "[encoded data removed]",
      "text/plain": [
       "<Figure size 600x400 with 1 Axes>"
      ]
     },
     "metadata": {},
     "output_type": "display_data"
    }
   ],
   "source": [
    "import seaborn as sns\n",
    "import matplotlib.pyplot as plt\n",
    "\n",
    "plt.figure(figsize=(6,4))\n",
    "sns.barplot(data=by_contract[by_contract['Churn']==\"Yes\"],\n",
    "            x='Contract', y='rate')\n",
    "plt.ylabel('Churn rate (%)')\n",
    "plt.title('Churn by Contract Type')\n",
    "plt.show()\n"
   ]
  },
  {
   "cell_type": "code",
   "execution_count": null,
   "id": "95ea081c",
   "metadata": {},
   "outputs": [],
   "source": []
  }
 ],
 "metadata": {
  "kernelspec": {
   "display_name": ".venv",
   "language": "python",
   "name": "python3"
  },
  "language_info": {
   "codemirror_mode": {
    "name": "ipython",
    "version": 3
   },
   "file_extension": ".py",
   "mimetype": "text/x-python",
   "name": "python",
   "nbconvert_exporter": "python",
   "pygments_lexer": "ipython3",
   "version": "3.13.7"
  }
 },
 "nbformat": 4,
 "nbformat_minor": 5
}
