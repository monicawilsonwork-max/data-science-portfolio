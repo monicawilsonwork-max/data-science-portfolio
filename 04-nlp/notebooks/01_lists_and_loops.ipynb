{
 "cells": [
  {
   "cell_type": "markdown",
   "id": "9d54d8bb",
   "metadata": {},
   "source": [
    "# Lesson 2 – Lists and Loops\n",
    "In this lesson, we'll practice:\n",
    "- Creating and modifying lists\n",
    "- Using `for` and `while` loops\n",
    "- Applying loops to simple data tasks\n"
   ]
  },
  {
   "cell_type": "code",
   "execution_count": 5,
   "id": "bbeeee56",
   "metadata": {},
   "outputs": [
    {
     "name": "stdout",
     "output_type": "stream",
     "text": [
      "Numbers: [10, 20, 30, 40, 50]\n",
      "First number: 10\n",
      "Last number: 50\n",
      "Updated numbers: [10, 20, 35, 40, 50]\n"
     ]
    }
   ],
   "source": [
    "# A list of numbers\n",
    "numbers = [10, 20, 30, 40, 50]\n",
    "print(\"Numbers:\", numbers)\n",
    "\n",
    "# Access first and last\n",
    "print(\"First number:\", numbers[0])\n",
    "print(\"Last number:\", numbers[-1])\n",
    "\n",
    "# Modify a value\n",
    "numbers[2] = 35\n",
    "print(\"Updated numbers:\", numbers)\n"
   ]
  },
  {
   "cell_type": "markdown",
   "id": "687b65e2",
   "metadata": {},
   "source": []
  },
  {
   "cell_type": "code",
   "execution_count": 6,
   "id": "4e791a00",
   "metadata": {},
   "outputs": [
    {
     "name": "stdout",
     "output_type": "stream",
     "text": [
      "Value: 10\n",
      "Value: 20\n",
      "Value: 35\n",
      "Value: 40\n",
      "Value: 50\n"
     ]
    }
   ],
   "source": [
    "# Loop through the list\n",
    "for num in numbers:\n",
    "    print(\"Value:\", num)\n"
   ]
  },
  {
   "cell_type": "markdown",
   "id": "9d77b8f9",
   "metadata": {},
   "source": [
    "✍️ **Your Turn:**\n",
    "1. Create a list of 5 favorite movies or foods.\n",
    "2. Write a `for` loop that prints each item in the list.\n",
    "3. Write a `while` loop that counts from 10 down to 1.\n"
   ]
  },
  {
   "cell_type": "markdown",
   "id": "a9461477",
   "metadata": {},
   "source": []
  },
  {
   "cell_type": "markdown",
   "id": "21b067eb",
   "metadata": {},
   "source": []
  }
 ],
 "metadata": {
  "kernelspec": {
   "display_name": ".venv",
   "language": "python",
   "name": "python3"
  },
  "language_info": {
   "codemirror_mode": {
    "name": "ipython",
    "version": 3
   },
   "file_extension": ".py",
   "mimetype": "text/x-python",
   "name": "python",
   "nbconvert_exporter": "python",
   "pygments_lexer": "ipython3",
   "version": "3.13.7"
  }
 },
 "nbformat": 4,
 "nbformat_minor": 5
}
